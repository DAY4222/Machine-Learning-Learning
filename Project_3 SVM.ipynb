{
 "cells": [
  {
   "attachments": {},
   "cell_type": "markdown",
   "metadata": {},
   "source": [
    "# Support Vector Machines \n",
    "## Fraud in Wine \n",
    "\n",
    "***\n",
    "\n",
    "***\n",
    "## Project Background\n",
    "\n",
    "Wine fraud relates to the commercial aspects of wine. The most prevalent type of fraud is one where wines are adulterated, usually with the addition of cheaper products (e.g. juices) and sometimes with harmful chemicals and sweeteners (compensating for color or flavor). Another common type of wine fraud involves counterfeiting by relabeling of infeior and cheaper wines to more expensive brands. \n",
    "<img src=\"wine.jpg\">\n",
    "\n",
    "## Project Goals\n",
    "\n",
    "\n",
    "---\n",
    "---\n",
    "\n",
    "**Overall Goal: Your overall goal is to use the wine dataset shown below to develop a support vector machine (SVM) model that attempts to predict if a wine is \"Legit\" or \"Fraud\" based on various chemical features.**\n",
    "\n",
    "\n",
    "\n",
    "---\n",
    "---"
   ]
  },
  {
   "attachments": {},
   "cell_type": "markdown",
   "metadata": {},
   "source": [
    "##  Explore the data:\n",
    "\n",
    "**Run the cells below to import the libraries and load the dataset.**"
   ]
  },
  {
   "cell_type": "code",
   "execution_count": 35,
   "metadata": {},
   "outputs": [],
   "source": [
    "import numpy as np\n",
    "import pandas as pd\n",
    "import seaborn as sns\n",
    "import matplotlib.pyplot as plt"
   ]
  },
  {
   "cell_type": "code",
   "execution_count": 36,
   "metadata": {},
   "outputs": [],
   "source": [
    "df = pd.read_csv(\"wine_fraud.csv\")"
   ]
  },
  {
   "cell_type": "code",
   "execution_count": 37,
   "metadata": {},
   "outputs": [
    {
     "data": {
      "text/html": [
       "<div>\n",
       "<style scoped>\n",
       "    .dataframe tbody tr th:only-of-type {\n",
       "        vertical-align: middle;\n",
       "    }\n",
       "\n",
       "    .dataframe tbody tr th {\n",
       "        vertical-align: top;\n",
       "    }\n",
       "\n",
       "    .dataframe thead th {\n",
       "        text-align: right;\n",
       "    }\n",
       "</style>\n",
       "<table border=\"1\" class=\"dataframe\">\n",
       "  <thead>\n",
       "    <tr style=\"text-align: right;\">\n",
       "      <th></th>\n",
       "      <th>fixed acidity</th>\n",
       "      <th>volatile acidity</th>\n",
       "      <th>citric acid</th>\n",
       "      <th>residual sugar</th>\n",
       "      <th>chlorides</th>\n",
       "      <th>free sulfur dioxide</th>\n",
       "      <th>total sulfur dioxide</th>\n",
       "      <th>density</th>\n",
       "      <th>pH</th>\n",
       "      <th>sulphates</th>\n",
       "      <th>alcohol</th>\n",
       "      <th>quality</th>\n",
       "      <th>type</th>\n",
       "    </tr>\n",
       "  </thead>\n",
       "  <tbody>\n",
       "    <tr>\n",
       "      <th>0</th>\n",
       "      <td>7.4</td>\n",
       "      <td>0.70</td>\n",
       "      <td>0.00</td>\n",
       "      <td>1.9</td>\n",
       "      <td>0.076</td>\n",
       "      <td>11.0</td>\n",
       "      <td>34.0</td>\n",
       "      <td>0.9978</td>\n",
       "      <td>3.51</td>\n",
       "      <td>0.56</td>\n",
       "      <td>9.4</td>\n",
       "      <td>Legit</td>\n",
       "      <td>red</td>\n",
       "    </tr>\n",
       "    <tr>\n",
       "      <th>1</th>\n",
       "      <td>7.8</td>\n",
       "      <td>0.88</td>\n",
       "      <td>0.00</td>\n",
       "      <td>2.6</td>\n",
       "      <td>0.098</td>\n",
       "      <td>25.0</td>\n",
       "      <td>67.0</td>\n",
       "      <td>0.9968</td>\n",
       "      <td>3.20</td>\n",
       "      <td>0.68</td>\n",
       "      <td>9.8</td>\n",
       "      <td>Legit</td>\n",
       "      <td>red</td>\n",
       "    </tr>\n",
       "    <tr>\n",
       "      <th>2</th>\n",
       "      <td>7.8</td>\n",
       "      <td>0.76</td>\n",
       "      <td>0.04</td>\n",
       "      <td>2.3</td>\n",
       "      <td>0.092</td>\n",
       "      <td>15.0</td>\n",
       "      <td>54.0</td>\n",
       "      <td>0.9970</td>\n",
       "      <td>3.26</td>\n",
       "      <td>0.65</td>\n",
       "      <td>9.8</td>\n",
       "      <td>Legit</td>\n",
       "      <td>red</td>\n",
       "    </tr>\n",
       "    <tr>\n",
       "      <th>3</th>\n",
       "      <td>11.2</td>\n",
       "      <td>0.28</td>\n",
       "      <td>0.56</td>\n",
       "      <td>1.9</td>\n",
       "      <td>0.075</td>\n",
       "      <td>17.0</td>\n",
       "      <td>60.0</td>\n",
       "      <td>0.9980</td>\n",
       "      <td>3.16</td>\n",
       "      <td>0.58</td>\n",
       "      <td>9.8</td>\n",
       "      <td>Legit</td>\n",
       "      <td>red</td>\n",
       "    </tr>\n",
       "    <tr>\n",
       "      <th>4</th>\n",
       "      <td>7.4</td>\n",
       "      <td>0.70</td>\n",
       "      <td>0.00</td>\n",
       "      <td>1.9</td>\n",
       "      <td>0.076</td>\n",
       "      <td>11.0</td>\n",
       "      <td>34.0</td>\n",
       "      <td>0.9978</td>\n",
       "      <td>3.51</td>\n",
       "      <td>0.56</td>\n",
       "      <td>9.4</td>\n",
       "      <td>Legit</td>\n",
       "      <td>red</td>\n",
       "    </tr>\n",
       "  </tbody>\n",
       "</table>\n",
       "</div>"
      ],
      "text/plain": [
       "   fixed acidity  volatile acidity  citric acid  residual sugar  chlorides  \\\n",
       "0            7.4              0.70         0.00             1.9      0.076   \n",
       "1            7.8              0.88         0.00             2.6      0.098   \n",
       "2            7.8              0.76         0.04             2.3      0.092   \n",
       "3           11.2              0.28         0.56             1.9      0.075   \n",
       "4            7.4              0.70         0.00             1.9      0.076   \n",
       "\n",
       "   free sulfur dioxide  total sulfur dioxide  density    pH  sulphates  \\\n",
       "0                 11.0                  34.0   0.9978  3.51       0.56   \n",
       "1                 25.0                  67.0   0.9968  3.20       0.68   \n",
       "2                 15.0                  54.0   0.9970  3.26       0.65   \n",
       "3                 17.0                  60.0   0.9980  3.16       0.58   \n",
       "4                 11.0                  34.0   0.9978  3.51       0.56   \n",
       "\n",
       "   alcohol quality type  \n",
       "0      9.4   Legit  red  \n",
       "1      9.8   Legit  red  \n",
       "2      9.8   Legit  red  \n",
       "3      9.8   Legit  red  \n",
       "4      9.4   Legit  red  "
      ]
     },
     "execution_count": 37,
     "metadata": {},
     "output_type": "execute_result"
    }
   ],
   "source": [
    "df.head()"
   ]
  },
  {
   "attachments": {},
   "cell_type": "markdown",
   "metadata": {},
   "source": [
    "In the above dataset, the column of \"quality\" is the target column we are trying to predict. The values in the \"quality\" column are often called labels in supervised learning. To explore the labelled values in the \"quality\" column, we can use [`pandas.unique()`] to find out the unique values in the \"quality\" column.\n",
    "\n",
    "Below are the unique values in our target column, the Quality Column.\n"
   ]
  },
  {
   "cell_type": "code",
   "execution_count": 38,
   "metadata": {},
   "outputs": [
    {
     "name": "stdout",
     "output_type": "stream",
     "text": [
      "['Legit' 'Fraud']\n"
     ]
    }
   ],
   "source": [
    "print(pd.unique(df['quality']))"
   ]
  },
  {
   "attachments": {},
   "cell_type": "markdown",
   "metadata": {},
   "source": [
    "A histogram (or countplot) to display the count per category of \"Legit\" vs \"Fraud\" in the column of \"quality\"**"
   ]
  },
  {
   "cell_type": "code",
   "execution_count": 39,
   "metadata": {},
   "outputs": [
    {
     "data": {
      "image/png": "[encoded data removed]",
      "text/plain": [
       "<Figure size 432x288 with 1 Axes>"
      ]
     },
     "metadata": {
      "needs_background": "light"
     },
     "output_type": "display_data"
    }
   ],
   "source": [
    "hist1 = sns.countplot(x='quality', data = df)"
   ]
  },
  {
   "cell_type": "markdown",
   "metadata": {},
   "source": [
    "The target is unbalanced"
   ]
  },
  {
   "attachments": {},
   "cell_type": "markdown",
   "metadata": {},
   "source": [
    "Let's find out if there is a difference between red and white wine in terms of \"Fraud\" vs. \"Legit\" of the quality.<br> Below is a histogram that has the wine \"type\" on the x axis with the \"hue\" separating columns by \"Fraud\" vs. \"Legit\".**"
   ]
  },
  {
   "cell_type": "code",
   "execution_count": 40,
   "metadata": {},
   "outputs": [
    {
     "data": {
      "image/png": "[encoded data removed]",
      "text/plain": [
       "<Figure size 432x288 with 1 Axes>"
      ]
     },
     "metadata": {
      "needs_background": "light"
     },
     "output_type": "display_data"
    }
   ],
   "source": [
    "hist2 = sns.countplot(x='type', hue='quality', data = df)"
   ]
  },
  {
   "attachments": {},
   "cell_type": "markdown",
   "metadata": {},
   "source": [
    " What percentage of red wines are Fraud? What percentage of white wines are fraud?**"
   ]
  },
  {
   "cell_type": "code",
   "execution_count": 41,
   "metadata": {},
   "outputs": [],
   "source": [
    "reds = df[df[\"type\"]=='red']\n",
    "Fraud_reds = reds[reds['quality']=='Fraud']"
   ]
  },
  {
   "cell_type": "code",
   "execution_count": 42,
   "metadata": {},
   "outputs": [],
   "source": [
    "whites = df[df[\"type\"]=='white']\n",
    "Fraud_whites = whites[whites['quality']=='Fraud']"
   ]
  },
  {
   "cell_type": "code",
   "execution_count": 43,
   "metadata": {},
   "outputs": [],
   "source": [
    "fr=(len(Fraud_reds)/len(reds))*100\n",
    "fw = (len(Fraud_whites)/len(whites))*100"
   ]
  },
  {
   "cell_type": "code",
   "execution_count": 44,
   "metadata": {},
   "outputs": [
    {
     "name": "stdout",
     "output_type": "stream",
     "text": [
      "Percentage of fraud in Red Wines is: 3.9399624765478425\n",
      "Percentage of fraud in White Wines is: 3.7362188648427925\n"
     ]
    }
   ],
   "source": [
    "print(f'Percentage of fraud in Red Wines is: {fr}')\n",
    "print(f'Percentage of fraud in White Wines is: {fw}')"
   ]
  },
  {
   "attachments": {},
   "cell_type": "markdown",
   "metadata": {},
   "source": [
    "What is the correlation between the various features and the \"quality\" column.**\n",
    "\n",
    "Note:\n",
    "* You can use `pandas.corr()` to calculate the whole correlation matrix, and then you can extract the `\"Fraud\"` column of the correlation matrix."
   ]
  },
  {
   "cell_type": "code",
   "execution_count": 45,
   "metadata": {},
   "outputs": [],
   "source": [
    "# This line of code is to map the string 'Legit' to 0 and the string 'Fraud' to 1\n",
    "df['Fraud']= df['quality'].map({'Legit':0,'Fraud':1})"
   ]
  },
  {
   "cell_type": "code",
   "execution_count": 46,
   "metadata": {},
   "outputs": [
    {
     "data": {
      "text/html": [
       "<div>\n",
       "<style scoped>\n",
       "    .dataframe tbody tr th:only-of-type {\n",
       "        vertical-align: middle;\n",
       "    }\n",
       "\n",
       "    .dataframe tbody tr th {\n",
       "        vertical-align: top;\n",
       "    }\n",
       "\n",
       "    .dataframe thead th {\n",
       "        text-align: right;\n",
       "    }\n",
       "</style>\n",
       "<table border=\"1\" class=\"dataframe\">\n",
       "  <thead>\n",
       "    <tr style=\"text-align: right;\">\n",
       "      <th></th>\n",
       "      <th>fixed acidity</th>\n",
       "      <th>volatile acidity</th>\n",
       "      <th>citric acid</th>\n",
       "      <th>residual sugar</th>\n",
       "      <th>chlorides</th>\n",
       "      <th>free sulfur dioxide</th>\n",
       "      <th>total sulfur dioxide</th>\n",
       "      <th>density</th>\n",
       "      <th>pH</th>\n",
       "      <th>sulphates</th>\n",
       "      <th>alcohol</th>\n",
       "      <th>Fraud</th>\n",
       "    </tr>\n",
       "  </thead>\n",
       "  <tbody>\n",
       "    <tr>\n",
       "      <th>fixed acidity</th>\n",
       "      <td>1.000000</td>\n",
       "      <td>0.219008</td>\n",
       "      <td>0.324436</td>\n",
       "      <td>-0.111981</td>\n",
       "      <td>0.298195</td>\n",
       "      <td>-0.282735</td>\n",
       "      <td>-0.329054</td>\n",
       "      <td>0.458910</td>\n",
       "      <td>-0.252700</td>\n",
       "      <td>0.299568</td>\n",
       "      <td>-0.095452</td>\n",
       "      <td>0.021794</td>\n",
       "    </tr>\n",
       "    <tr>\n",
       "      <th>volatile acidity</th>\n",
       "      <td>0.219008</td>\n",
       "      <td>1.000000</td>\n",
       "      <td>-0.377981</td>\n",
       "      <td>-0.196011</td>\n",
       "      <td>0.377124</td>\n",
       "      <td>-0.352557</td>\n",
       "      <td>-0.414476</td>\n",
       "      <td>0.271296</td>\n",
       "      <td>0.261454</td>\n",
       "      <td>0.225984</td>\n",
       "      <td>-0.037640</td>\n",
       "      <td>0.151228</td>\n",
       "    </tr>\n",
       "    <tr>\n",
       "      <th>citric acid</th>\n",
       "      <td>0.324436</td>\n",
       "      <td>-0.377981</td>\n",
       "      <td>1.000000</td>\n",
       "      <td>0.142451</td>\n",
       "      <td>0.038998</td>\n",
       "      <td>0.133126</td>\n",
       "      <td>0.195242</td>\n",
       "      <td>0.096154</td>\n",
       "      <td>-0.329808</td>\n",
       "      <td>0.056197</td>\n",
       "      <td>-0.010493</td>\n",
       "      <td>-0.061789</td>\n",
       "    </tr>\n",
       "    <tr>\n",
       "      <th>residual sugar</th>\n",
       "      <td>-0.111981</td>\n",
       "      <td>-0.196011</td>\n",
       "      <td>0.142451</td>\n",
       "      <td>1.000000</td>\n",
       "      <td>-0.128940</td>\n",
       "      <td>0.402871</td>\n",
       "      <td>0.495482</td>\n",
       "      <td>0.552517</td>\n",
       "      <td>-0.267320</td>\n",
       "      <td>-0.185927</td>\n",
       "      <td>-0.359415</td>\n",
       "      <td>-0.048756</td>\n",
       "    </tr>\n",
       "    <tr>\n",
       "      <th>chlorides</th>\n",
       "      <td>0.298195</td>\n",
       "      <td>0.377124</td>\n",
       "      <td>0.038998</td>\n",
       "      <td>-0.128940</td>\n",
       "      <td>1.000000</td>\n",
       "      <td>-0.195045</td>\n",
       "      <td>-0.279630</td>\n",
       "      <td>0.362615</td>\n",
       "      <td>0.044708</td>\n",
       "      <td>0.395593</td>\n",
       "      <td>-0.256916</td>\n",
       "      <td>0.034499</td>\n",
       "    </tr>\n",
       "    <tr>\n",
       "      <th>free sulfur dioxide</th>\n",
       "      <td>-0.282735</td>\n",
       "      <td>-0.352557</td>\n",
       "      <td>0.133126</td>\n",
       "      <td>0.402871</td>\n",
       "      <td>-0.195045</td>\n",
       "      <td>1.000000</td>\n",
       "      <td>0.720934</td>\n",
       "      <td>0.025717</td>\n",
       "      <td>-0.145854</td>\n",
       "      <td>-0.188457</td>\n",
       "      <td>-0.179838</td>\n",
       "      <td>-0.085204</td>\n",
       "    </tr>\n",
       "    <tr>\n",
       "      <th>total sulfur dioxide</th>\n",
       "      <td>-0.329054</td>\n",
       "      <td>-0.414476</td>\n",
       "      <td>0.195242</td>\n",
       "      <td>0.495482</td>\n",
       "      <td>-0.279630</td>\n",
       "      <td>0.720934</td>\n",
       "      <td>1.000000</td>\n",
       "      <td>0.032395</td>\n",
       "      <td>-0.238413</td>\n",
       "      <td>-0.275727</td>\n",
       "      <td>-0.265740</td>\n",
       "      <td>-0.035252</td>\n",
       "    </tr>\n",
       "    <tr>\n",
       "      <th>density</th>\n",
       "      <td>0.458910</td>\n",
       "      <td>0.271296</td>\n",
       "      <td>0.096154</td>\n",
       "      <td>0.552517</td>\n",
       "      <td>0.362615</td>\n",
       "      <td>0.025717</td>\n",
       "      <td>0.032395</td>\n",
       "      <td>1.000000</td>\n",
       "      <td>0.011686</td>\n",
       "      <td>0.259478</td>\n",
       "      <td>-0.686745</td>\n",
       "      <td>0.016351</td>\n",
       "    </tr>\n",
       "    <tr>\n",
       "      <th>pH</th>\n",
       "      <td>-0.252700</td>\n",
       "      <td>0.261454</td>\n",
       "      <td>-0.329808</td>\n",
       "      <td>-0.267320</td>\n",
       "      <td>0.044708</td>\n",
       "      <td>-0.145854</td>\n",
       "      <td>-0.238413</td>\n",
       "      <td>0.011686</td>\n",
       "      <td>1.000000</td>\n",
       "      <td>0.192123</td>\n",
       "      <td>0.121248</td>\n",
       "      <td>0.020107</td>\n",
       "    </tr>\n",
       "    <tr>\n",
       "      <th>sulphates</th>\n",
       "      <td>0.299568</td>\n",
       "      <td>0.225984</td>\n",
       "      <td>0.056197</td>\n",
       "      <td>-0.185927</td>\n",
       "      <td>0.395593</td>\n",
       "      <td>-0.188457</td>\n",
       "      <td>-0.275727</td>\n",
       "      <td>0.259478</td>\n",
       "      <td>0.192123</td>\n",
       "      <td>1.000000</td>\n",
       "      <td>-0.003029</td>\n",
       "      <td>-0.034046</td>\n",
       "    </tr>\n",
       "    <tr>\n",
       "      <th>alcohol</th>\n",
       "      <td>-0.095452</td>\n",
       "      <td>-0.037640</td>\n",
       "      <td>-0.010493</td>\n",
       "      <td>-0.359415</td>\n",
       "      <td>-0.256916</td>\n",
       "      <td>-0.179838</td>\n",
       "      <td>-0.265740</td>\n",
       "      <td>-0.686745</td>\n",
       "      <td>0.121248</td>\n",
       "      <td>-0.003029</td>\n",
       "      <td>1.000000</td>\n",
       "      <td>-0.051141</td>\n",
       "    </tr>\n",
       "    <tr>\n",
       "      <th>Fraud</th>\n",
       "      <td>0.021794</td>\n",
       "      <td>0.151228</td>\n",
       "      <td>-0.061789</td>\n",
       "      <td>-0.048756</td>\n",
       "      <td>0.034499</td>\n",
       "      <td>-0.085204</td>\n",
       "      <td>-0.035252</td>\n",
       "      <td>0.016351</td>\n",
       "      <td>0.020107</td>\n",
       "      <td>-0.034046</td>\n",
       "      <td>-0.051141</td>\n",
       "      <td>1.000000</td>\n",
       "    </tr>\n",
       "  </tbody>\n",
       "</table>\n",
       "</div>"
      ],
      "text/plain": [
       "                      fixed acidity  volatile acidity  citric acid  \\\n",
       "fixed acidity              1.000000          0.219008     0.324436   \n",
       "volatile acidity           0.219008          1.000000    -0.377981   \n",
       "citric acid                0.324436         -0.377981     1.000000   \n",
       "residual sugar            -0.111981         -0.196011     0.142451   \n",
       "chlorides                  0.298195          0.377124     0.038998   \n",
       "free sulfur dioxide       -0.282735         -0.352557     0.133126   \n",
       "total sulfur dioxide      -0.329054         -0.414476     0.195242   \n",
       "density                    0.458910          0.271296     0.096154   \n",
       "pH                        -0.252700          0.261454    -0.329808   \n",
       "sulphates                  0.299568          0.225984     0.056197   \n",
       "alcohol                   -0.095452         -0.037640    -0.010493   \n",
       "Fraud                      0.021794          0.151228    -0.061789   \n",
       "\n",
       "                      residual sugar  chlorides  free sulfur dioxide  \\\n",
       "fixed acidity              -0.111981   0.298195            -0.282735   \n",
       "volatile acidity           -0.196011   0.377124            -0.352557   \n",
       "citric acid                 0.142451   0.038998             0.133126   \n",
       "residual sugar              1.000000  -0.128940             0.402871   \n",
       "chlorides                  -0.128940   1.000000            -0.195045   \n",
       "free sulfur dioxide         0.402871  -0.195045             1.000000   \n",
       "total sulfur dioxide        0.495482  -0.279630             0.720934   \n",
       "density                     0.552517   0.362615             0.025717   \n",
       "pH                         -0.267320   0.044708            -0.145854   \n",
       "sulphates                  -0.185927   0.395593            -0.188457   \n",
       "alcohol                    -0.359415  -0.256916            -0.179838   \n",
       "Fraud                      -0.048756   0.034499            -0.085204   \n",
       "\n",
       "                      total sulfur dioxide   density        pH  sulphates  \\\n",
       "fixed acidity                    -0.329054  0.458910 -0.252700   0.299568   \n",
       "volatile acidity                 -0.414476  0.271296  0.261454   0.225984   \n",
       "citric acid                       0.195242  0.096154 -0.329808   0.056197   \n",
       "residual sugar                    0.495482  0.552517 -0.267320  -0.185927   \n",
       "chlorides                        -0.279630  0.362615  0.044708   0.395593   \n",
       "free sulfur dioxide               0.720934  0.025717 -0.145854  -0.188457   \n",
       "total sulfur dioxide              1.000000  0.032395 -0.238413  -0.275727   \n",
       "density                           0.032395  1.000000  0.011686   0.259478   \n",
       "pH                               -0.238413  0.011686  1.000000   0.192123   \n",
       "sulphates                        -0.275727  0.259478  0.192123   1.000000   \n",
       "alcohol                          -0.265740 -0.686745  0.121248  -0.003029   \n",
       "Fraud                            -0.035252  0.016351  0.020107  -0.034046   \n",
       "\n",
       "                       alcohol     Fraud  \n",
       "fixed acidity        -0.095452  0.021794  \n",
       "volatile acidity     -0.037640  0.151228  \n",
       "citric acid          -0.010493 -0.061789  \n",
       "residual sugar       -0.359415 -0.048756  \n",
       "chlorides            -0.256916  0.034499  \n",
       "free sulfur dioxide  -0.179838 -0.085204  \n",
       "total sulfur dioxide -0.265740 -0.035252  \n",
       "density              -0.686745  0.016351  \n",
       "pH                    0.121248  0.020107  \n",
       "sulphates            -0.003029 -0.034046  \n",
       "alcohol               1.000000 -0.051141  \n",
       "Fraud                -0.051141  1.000000  "
      ]
     },
     "execution_count": 46,
     "metadata": {},
     "output_type": "execute_result"
    }
   ],
   "source": [
    "df.corr(method = 'pearson')"
   ]
  },
  {
   "cell_type": "code",
   "execution_count": 47,
   "metadata": {},
   "outputs": [
    {
     "name": "stdout",
     "output_type": "stream",
     "text": [
      "fixed acidity           0.021794\n",
      "volatile acidity        0.151228\n",
      "citric acid            -0.061789\n",
      "residual sugar         -0.048756\n",
      "chlorides               0.034499\n",
      "free sulfur dioxide    -0.085204\n",
      "total sulfur dioxide   -0.035252\n",
      "density                 0.016351\n",
      "pH                      0.020107\n",
      "sulphates              -0.034046\n",
      "alcohol                -0.051141\n",
      "Fraud                   1.000000\n",
      "Name: Fraud, dtype: float64\n"
     ]
    }
   ],
   "source": [
    "correlation = df.corr(method = 'pearson')\n",
    "\n",
    "print(correlation[\"Fraud\"])\n",
    "\n",
    "#Below you can see that volatile acidity  has the most correlation with Fraud."
   ]
  },
  {
   "attachments": {},
   "cell_type": "markdown",
   "metadata": {},
   "source": [
    "----\n",
    "## Machine Learning Model:"
   ]
  },
  {
   "cell_type": "markdown",
   "metadata": {},
   "source": [
    "\n",
    "**Now, we convert the categorical variables in the column \"type\" from the strings \"red\" or \"white\" to dummy variables:**\n",
    "\n",
    "A dummy variable is one that takes only the value 0 or 1 to indicate the absence or presence of some categorical effect."
   ]
  },
  {
   "cell_type": "code",
   "execution_count": 24,
   "metadata": {},
   "outputs": [],
   "source": [
    "df['type'] = pd.get_dummies(df['type'],drop_first=True)"
   ]
  },
  {
   "cell_type": "code",
   "execution_count": 25,
   "metadata": {},
   "outputs": [],
   "source": [
    "df = df.drop('Fraud',axis=1)"
   ]
  },
  {
   "attachments": {},
   "cell_type": "markdown",
   "metadata": {},
   "source": [
    " Separate out the data into feature matrix $\\mathbf X$ (i.e., to drop the \"quality\" column) and target label $\\mathbf y$ (i.e., the \"quality\" column)**."
   ]
  },
  {
   "cell_type": "code",
   "execution_count": 26,
   "metadata": {},
   "outputs": [
    {
     "name": "stdout",
     "output_type": "stream",
     "text": [
      "      fixed acidity  volatile acidity  citric acid  residual sugar  chlorides  \\\n",
      "0               7.4              0.70         0.00             1.9      0.076   \n",
      "1               7.8              0.88         0.00             2.6      0.098   \n",
      "2               7.8              0.76         0.04             2.3      0.092   \n",
      "3              11.2              0.28         0.56             1.9      0.075   \n",
      "4               7.4              0.70         0.00             1.9      0.076   \n",
      "...             ...               ...          ...             ...        ...   \n",
      "6492            6.2              0.21         0.29             1.6      0.039   \n",
      "6493            6.6              0.32         0.36             8.0      0.047   \n",
      "6494            6.5              0.24         0.19             1.2      0.041   \n",
      "6495            5.5              0.29         0.30             1.1      0.022   \n",
      "6496            6.0              0.21         0.38             0.8      0.020   \n",
      "\n",
      "      free sulfur dioxide  total sulfur dioxide  density    pH  sulphates  \\\n",
      "0                    11.0                  34.0  0.99780  3.51       0.56   \n",
      "1                    25.0                  67.0  0.99680  3.20       0.68   \n",
      "2                    15.0                  54.0  0.99700  3.26       0.65   \n",
      "3                    17.0                  60.0  0.99800  3.16       0.58   \n",
      "4                    11.0                  34.0  0.99780  3.51       0.56   \n",
      "...                   ...                   ...      ...   ...        ...   \n",
      "6492                 24.0                  92.0  0.99114  3.27       0.50   \n",
      "6493                 57.0                 168.0  0.99490  3.15       0.46   \n",
      "6494                 30.0                 111.0  0.99254  2.99       0.46   \n",
      "6495                 20.0                 110.0  0.98869  3.34       0.38   \n",
      "6496                 22.0                  98.0  0.98941  3.26       0.32   \n",
      "\n",
      "      alcohol  type  \n",
      "0         9.4     0  \n",
      "1         9.8     0  \n",
      "2         9.8     0  \n",
      "3         9.8     0  \n",
      "4         9.4     0  \n",
      "...       ...   ...  \n",
      "6492     11.2     1  \n",
      "6493      9.6     1  \n",
      "6494      9.4     1  \n",
      "6495     12.8     1  \n",
      "6496     11.8     1  \n",
      "\n",
      "[6497 rows x 12 columns]\n"
     ]
    }
   ],
   "source": [
    "X = df.drop('quality', axis=1)\n",
    "y = df['quality']\n",
    "print(X)"
   ]
  },
  {
   "cell_type": "code",
   "execution_count": null,
   "metadata": {},
   "outputs": [],
   "source": []
  },
  {
   "attachments": {},
   "cell_type": "markdown",
   "metadata": {},
   "source": [
    "** Perform a Train|Test split on the data, with a 10% test size.** \n",
    "\n",
    "Note: \n",
    "* Use `train_test_split` from the module `sklearn.model_selection`.\n"
   ]
  },
  {
   "cell_type": "code",
   "execution_count": 27,
   "metadata": {},
   "outputs": [],
   "source": [
    "from sklearn.model_selection import train_test_split\n",
    "X_train, X_test, y_train, y_test = train_test_split(X, \n",
    "                                                    y, \n",
    "                                                    test_size=0.1, \n",
    "                                                    random_state=101)"
   ]
  },
  {
   "attachments": {},
   "cell_type": "markdown",
   "metadata": {},
   "source": [
    "** Scale the X_train (feature matrix of training dataset) and X_test (feature matrix of test dataset).**\n",
    "\n",
    "**StandardScaler**: \n",
    "\n",
    "Standard Scaler transforms the data in such a manner that it has mean as 0 and standard deviation as 1. In short, it standardizes the data. It arranges the data in a standard normal distribution. It is more useful in classification than regression.\n",
    "\n",
    "Note:\n",
    "* Create an scaler instance using `StandardScaler()` from the module `sklearn.preprocessing`.\n",
    "* After creating a StandardScaler instance (with default parameters), use the method `fit_transform()` to scale the X_train; use the method `transform()` to scale the X_test."
   ]
  },
  {
   "cell_type": "code",
   "execution_count": 28,
   "metadata": {},
   "outputs": [],
   "source": [
    "from sklearn.preprocessing import StandardScaler\n",
    "scaler = StandardScaler()\n",
    "scaled_X_train = scaler.fit_transform(X_train)\n",
    "scaled_X_test = scaler.transform(X_test)\n"
   ]
  },
  {
   "attachments": {},
   "cell_type": "markdown",
   "metadata": {},
   "source": [
    "** Create an instance of a Support Vector Machine classifier.**\n",
    "\n",
    "Note:\n",
    "* Use Scikit-learn support vector machine classifier `SVC` from the module `sklearn.svm`.\n",
    "* We already know that the classes (or labels) are unbalanced. To deal with this issue, we can adjust weights inversely proportional to class frequencies in the input data **by setting the argument `class_weight` in the SVC( ) call**. Check out the sklearn.svm.SVC documentation and look up how to set the `class_weight` argument."
   ]
  },
  {
   "cell_type": "code",
   "execution_count": 29,
   "metadata": {},
   "outputs": [],
   "source": [
    "from sklearn.svm import SVC\n",
    "clf = SVC(class_weight = 'balanced')"
   ]
  },
  {
   "attachments": {},
   "cell_type": "markdown",
   "metadata": {},
   "source": [
    "**<br> Use a GridSearchCV to run a grid search to create a SVM model with the best C and gamma parameters.**\n",
    "\n",
    "Note:\n",
    "* Use `GridSearchCV` from the module `sklearn.model_selection`.\n",
    "* Create an instance of GridSearchCV, where the estimator object (i.e., the argument **`estimator`) should set to be the SVC model created before**, and the parameter grid (i.e., the argument `param_griddict`) is suggested to set as `'C':[0.001,0.01,0.1,0.5,1], 'gamma':['scale','auto']`.\n",
    "* Fit the training data to the models created by GridSearchCV. Make sure to use the **scaled** X_train (refer to Question 8) as the feature matrix for fitting.\n",
    "* After finishing the fitting process, access the attribute `best_params_` of the GridSearchCV, print out the best C and gamma parameters."
   ]
  },
  {
   "cell_type": "code",
   "execution_count": 30,
   "metadata": {},
   "outputs": [
    {
     "data": {
      "text/plain": [
       "{'C': 1, 'gamma': 'auto'}"
      ]
     },
     "execution_count": 30,
     "metadata": {},
     "output_type": "execute_result"
    }
   ],
   "source": [
    "from sklearn.model_selection import GridSearchCV\n",
    "parameter_grid = {'C':[0.001,0.01,0.1,0.5,1], 'gamma':['scale','auto']}\n",
    "grid_model = GridSearchCV(clf,parameter_grid)\n",
    "grid_model.fit(scaled_X_train,y_train)\n",
    "grid_model.best_params_\n"
   ]
  },
  {
   "attachments": {},
   "cell_type": "markdown",
   "metadata": {},
   "source": [
    "**<br> Display the confusion matrix and classification report for your model.**\n",
    "\n",
    "Note:\n",
    "* Use `confusion_matrix`, `classification_report` from the module `sklearn.metrics`.\n",
    "* After the grid search process , you have a SVM model with the best C and gamma parameters. Use the fitting model to make predictions over the test dataset. Make sure to use the **scaled** X_test\n",
    "* Once you have the predictions over the test dataset, you can call the function `confusion_matrix( )` to obtain the confusion matrix. \n",
    "* Then you can display the classification report by calling the function `classification_report( )`. "
   ]
  },
  {
   "cell_type": "code",
   "execution_count": 33,
   "metadata": {},
   "outputs": [
    {
     "name": "stdout",
     "output_type": "stream",
     "text": [
      "              precision    recall  f1-score   support\n",
      "\n",
      "       Fraud       0.16      0.63      0.25        27\n",
      "       Legit       0.98      0.85      0.91       623\n",
      "\n",
      "    accuracy                           0.84       650\n",
      "   macro avg       0.57      0.74      0.58       650\n",
      "weighted avg       0.95      0.84      0.88       650\n",
      "\n"
     ]
    }
   ],
   "source": [
    "from sklearn.metrics import confusion_matrix\n",
    "from sklearn.metrics import classification_report\n",
    "test_predictions = grid_model.predict(scaled_X_test)\n",
    "confusion_matrix(y_test, test_predictions)\n",
    "print(classification_report(y_test,test_predictions))"
   ]
  },
  {
   "attachments": {},
   "cell_type": "markdown",
   "metadata": {},
   "source": [
    " How well does this model perform??. **"
   ]
  },
  {
   "attachments": {},
   "cell_type": "markdown",
   "metadata": {},
   "source": [
    "# Write your discussion here\n",
    "    The model introduces a dataset comprising of 623 assumed legitimate and 27 assumed fraudulent wines. The data seems to suggest that it is accurate in determining whether a legitimate wine is legitimate, with the given accuracy of 84% but flawed in its approach to determining whether or not a fraudulent wine is fraudulent, due to insufficient datapoints to verify that claim. \n",
    "    \n",
    "    The model correctly identified fraud wines as fraud 17 times (0.63*27) and correctly identified legitimate wines as legitimate 530 times (0.85*623). Just from observing this, we can see that the model is heavily biased towards identifying legit wines, resulting in the data for fraudulent wines lacking support. \n",
    "    \n",
    "    I would suggest using more training data that would allow for increased support in detecting for fraudulent wines\n",
    "    \n",
    "    I would not suggest other people use this model due to the poorly developed algorithm leading to skewed data with regards to the fraudulent wine being labelled as legitimate (recall rate being so low). The recall rate for the legitimate wine, was higher, but the model is far from perfect seeing as though it is only 85%."
   ]
  }
 ],
 "metadata": {
  "anaconda-cloud": {},
  "kernelspec": {
   "display_name": "base",
   "language": "python",
   "name": "python3"
  },
  "language_info": {
   "codemirror_mode": {
    "name": "ipython",
    "version": 3
   },
   "file_extension": ".py",
   "mimetype": "text/x-python",
   "name": "python",
   "nbconvert_exporter": "python",
   "pygments_lexer": "ipython3",
   "version": "3.9.13 (main, Aug 25 2022, 18:29:29) \n[Clang 12.0.0 ]"
  },
  "toc": {
   "base_numbering": 1,
   "nav_menu": {},
   "number_sections": true,
   "sideBar": true,
   "skip_h1_title": false,
   "title_cell": "Table of Contents",
   "title_sidebar": "Contents",
   "toc_cell": false,
   "toc_position": {},
   "toc_section_display": true,
   "toc_window_display": false
  },
  "vscode": {
   "interpreter": {
    "hash": "d6a9dbdb4971514f586730fddcf05bf2883229d5b8f4a69d59435be3b417e0ab"
   }
  }
 },
 "nbformat": 4,
 "nbformat_minor": 1
}
