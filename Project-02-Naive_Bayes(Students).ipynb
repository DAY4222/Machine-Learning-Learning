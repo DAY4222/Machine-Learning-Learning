{
 "cells": [
  {
   "cell_type": "raw",
   "metadata": {},
   "source": [
    "Naïve Bayes is a fast classification method that can predict the results given some training samples. In this project, you will develop some intuition for how the approach is applied in the real life.\n",
    "\n",
    "One viable technology for supply-chain management is the blockchain, which provides manufacturers, distributors, retailers and customers to share the transaction network. For the blockchain, when there is a new transaction, a block is generated in the network shared by all the parties involved, and this block contains the transaction information such as a purchase of a product X under a contract agreement.\n",
    "In the world of real-time production and sales, a distributer needs to predict the demand. The prediction can be achieved by the Naive Bayesian classification method. \n",
    "\n",
    "Now suppose you are the distributer. You have the dataset `product_demand.csv` which stores the product demand and the number of blocks in the previous day. Please note a few number of blocks (transactions) may correspond to large demand. "
   ]
  },
  {
   "cell_type": "code",
   "execution_count": 4,
   "metadata": {},
   "outputs": [
    {
     "data": {
      "text/html": [
       "<div>\n",
       "<style scoped>\n",
       "    .dataframe tbody tr th:only-of-type {\n",
       "        vertical-align: middle;\n",
       "    }\n",
       "\n",
       "    .dataframe tbody tr th {\n",
       "        vertical-align: top;\n",
       "    }\n",
       "\n",
       "    .dataframe thead th {\n",
       "        text-align: right;\n",
       "    }\n",
       "</style>\n",
       "<table border=\"1\" class=\"dataframe\">\n",
       "  <thead>\n",
       "    <tr style=\"text-align: right;\">\n",
       "      <th></th>\n",
       "      <th>day</th>\n",
       "      <th>number of blocks</th>\n",
       "      <th>demand</th>\n",
       "    </tr>\n",
       "  </thead>\n",
       "  <tbody>\n",
       "    <tr>\n",
       "      <th>0</th>\n",
       "      <td>0</td>\n",
       "      <td>some</td>\n",
       "      <td>low</td>\n",
       "    </tr>\n",
       "    <tr>\n",
       "      <th>1</th>\n",
       "      <td>1</td>\n",
       "      <td>few</td>\n",
       "      <td>low</td>\n",
       "    </tr>\n",
       "    <tr>\n",
       "      <th>2</th>\n",
       "      <td>2</td>\n",
       "      <td>some</td>\n",
       "      <td>high</td>\n",
       "    </tr>\n",
       "    <tr>\n",
       "      <th>3</th>\n",
       "      <td>3</td>\n",
       "      <td>some</td>\n",
       "      <td>high</td>\n",
       "    </tr>\n",
       "    <tr>\n",
       "      <th>4</th>\n",
       "      <td>4</td>\n",
       "      <td>many</td>\n",
       "      <td>high</td>\n",
       "    </tr>\n",
       "  </tbody>\n",
       "</table>\n",
       "</div>"
      ],
      "text/plain": [
       "   day number of blocks demand\n",
       "0    0             some    low\n",
       "1    1              few    low\n",
       "2    2             some   high\n",
       "3    3             some   high\n",
       "4    4             many   high"
      ]
     },
     "execution_count": 4,
     "metadata": {},
     "output_type": "execute_result"
    }
   ],
   "source": [
    "import pandas as pd\n",
    "df = pd.read_csv(\"product_demand.csv\")\n",
    "df.head()"
   ]
  },
  {
   "cell_type": "markdown",
   "metadata": {},
   "source": [
    "* **Number of Blocks** accounts for the number of the blocks of purchasing products in the previous day. This number has been classified into three categories, \"few\", \"some\" and \"many\".\n",
    "* **Demand** shows whether the product is in low demand or high demand by the customers."
   ]
  },
  {
   "attachments": {},
   "cell_type": "markdown",
   "metadata": {},
   "source": [
    "###  \n",
    "Use the dataset `product_demand.csv` to calculate the prior probabilitie and print the results."
   ]
  },
  {
   "cell_type": "markdown",
   "metadata": {},
   "source": [
    "(1) $p(\\text{demand}=\\text{\"high\"})$"
   ]
  },
  {
   "cell_type": "code",
   "execution_count": 7,
   "metadata": {},
   "outputs": [
    {
     "name": "stdout",
     "output_type": "stream",
     "text": [
      "The probability is 0.5\n"
     ]
    }
   ],
   "source": [
    "data = sum(df['demand']=='high')\n",
    "length = len(df['demand'])\n",
    "probability = data/length\n",
    "print(f'The probability is {probability}')"
   ]
  },
  {
   "cell_type": "markdown",
   "metadata": {},
   "source": [
    "(2) $p(\\text{demand}=\\text{\"low\"})$"
   ]
  },
  {
   "cell_type": "code",
   "execution_count": 8,
   "metadata": {},
   "outputs": [
    {
     "name": "stdout",
     "output_type": "stream",
     "text": [
      "The probability is 0.5\n"
     ]
    }
   ],
   "source": [
    "data_1 = sum(df['demand']=='low')\n",
    "length_1 = len(df['demand'])\n",
    "probability_1 = data_1/length_1\n",
    "print(f'The probability is {probability_1}')"
   ]
  },
  {
   "attachments": {},
   "cell_type": "markdown",
   "metadata": {},
   "source": [
    "###\n",
    "\n",
    "Calculate the conditional probabilities by Bayes Theorem and print the results."
   ]
  },
  {
   "cell_type": "markdown",
   "metadata": {},
   "source": [
    "(1) $p(\\text{blocks}=\\text{\"few\"}\\mid\\text{demand}=\\text{\"high\"})$"
   ]
  },
  {
   "cell_type": "code",
   "execution_count": 15,
   "metadata": {},
   "outputs": [
    {
     "name": "stdout",
     "output_type": "stream",
     "text": [
      "The probability is 0.13\n"
     ]
    }
   ],
   "source": [
    "data_3 = sum(df['number of blocks'] == 'few')\n",
    "length_3 = len(df['number of blocks'])\n",
    "probability_2 = data_3/length_3\n",
    "data_4 = sum((df['number of blocks'] == 'few') &(df['demand']=='high'))\n",
    "probability_3 = data_4/data_3\n",
    "probability_4 = (probability_3*probability_2)/probability\n",
    "print(f'The probability is {probability_4}')"
   ]
  },
  {
   "cell_type": "markdown",
   "metadata": {},
   "source": [
    "(2) $p(\\text{blocks}=\\text{\"some\"}\\mid\\text{demand}=\\text{\"high\"})$"
   ]
  },
  {
   "cell_type": "code",
   "execution_count": 13,
   "metadata": {},
   "outputs": [
    {
     "name": "stdout",
     "output_type": "stream",
     "text": [
      "The probability is 0.33999999999999997\n"
     ]
    }
   ],
   "source": [
    "# put your code here\n",
    "data_4 = sum(df['number of blocks'] == 'some')\n",
    "probability_5 = data_4/length_3\n",
    "data_5 = sum((df['number of blocks'] == 'some') & (df['demand']=='high'))\n",
    "probability_6 = data_5/data_4\n",
    "probability_7 = (probability_6*probability_5)/probability\n",
    "print(f'The probability is {probability_7}')"
   ]
  },
  {
   "cell_type": "markdown",
   "metadata": {},
   "source": [
    "(3) $p(\\text{blocks}=\\text{\"some\"}\\mid\\text{demand}=\\text{\"low\"})$"
   ]
  },
  {
   "cell_type": "code",
   "execution_count": 34,
   "metadata": {},
   "outputs": [
    {
     "name": "stdout",
     "output_type": "stream",
     "text": [
      "The probability is 0.35\n"
     ]
    }
   ],
   "source": [
    "# put your code here\n",
    "p_8 = sum((df[\"number of blocks\"] == \"some\") & (df[\"demand\"] == \"high\"))/length_3\n",
    "p_9 = sum(df[\"number of blocks\"] == \"some\")/length_3\n",
    "p = (probability_8/probability_9)*probability_9/probability\n",
    "print(f'The probability is {p}')"
   ]
  },
  {
   "cell_type": "markdown",
   "metadata": {},
   "source": [
    "(4) $p(\\text{blocks}=\\text{\"many\"}\\mid\\text{demand}=\\text{\"low\"})$"
   ]
  },
  {
   "cell_type": "code",
   "execution_count": 28,
   "metadata": {},
   "outputs": [
    {
     "name": "stdout",
     "output_type": "stream",
     "text": [
      "The probability is 0.16\n"
     ]
    }
   ],
   "source": [
    "# put your code here\n",
    "probability_10 = sum((df[\"number of blocks\"] == \"many\") & (df[\"demand\"] == \"low\"))/length_3\n",
    "probability_11 = sum(df[\"number of blocks\"] == \"many\")/length_3\n",
    "probability_12 = (p_many_and_low/p_many)*p_many/probability_1\n",
    "print(f'The probability is {probability_12}')"
   ]
  },
  {
   "attachments": {},
   "cell_type": "markdown",
   "metadata": {},
   "source": [
    "### \n",
    "\n",
    "Under the Naive Bayesian model and your estimates of the above probabilities, what is the most likely demand for the product if there are \"many\" blocks for the previous day?"
   ]
  },
  {
   "cell_type": "code",
   "execution_count": 29,
   "metadata": {},
   "outputs": [
    {
     "name": "stdout",
     "output_type": "stream",
     "text": [
      "The demand for low is 0.23188405797101452\n",
      "The demand for high is 0.7681159420289856\n"
     ]
    }
   ],
   "source": [
    "\n",
    "p = sum((df[\"number of blocks\"] == \"many\") & (df[\"demand\"] == \"high\"))/len(df)\n",
    "p_1 = sum(df[\"number of blocks\"] == \"many\")/len(df)\n",
    "p_2 = (p/p_1)*p_1/probability\n",
    "Bayesian_low = probability_1*probability_12/p_1\n",
    "Bayesian_high = probability*p_2/p_1\n",
    "print( f'The demand for low is {Bayesian_low}')\n",
    "print( f'The demand for high is {Bayesian_high}')"
   ]
  },
  {
   "cell_type": "code",
   "execution_count": 35,
   "metadata": {},
   "outputs": [
    {
     "name": "stdout",
     "output_type": "stream",
     "text": [
      " After calculating the probability for \"low\" which is 23.18 percent and the probability for \"high\" is 76.81, if there are \"many\" blocks the previous day then the demand for the product is likely to be \"high\"\n"
     ]
    }
   ],
   "source": [
    "print(f' After calculating the probability for \"low\" which is 23.18 percent and the probability for \"high\" which is 76.81, if there are \"many\" blocks the previous day then the demand for the product is likely to be \"high\"' )"
   ]
  },
  {
   "cell_type": "code",
   "execution_count": null,
   "metadata": {},
   "outputs": [],
   "source": []
  }
 ],
 "metadata": {
  "kernelspec": {
   "display_name": "base",
   "language": "python",
   "name": "python3"
  },
  "language_info": {
   "codemirror_mode": {
    "name": "ipython",
    "version": 3
   },
   "file_extension": ".py",
   "mimetype": "text/x-python",
   "name": "python",
   "nbconvert_exporter": "python",
   "pygments_lexer": "ipython3",
   "version": "3.9.13 (main, Aug 25 2022, 18:29:29) \n[Clang 12.0.0 ]"
  },
  "vscode": {
   "interpreter": {
    "hash": "d6a9dbdb4971514f586730fddcf05bf2883229d5b8f4a69d59435be3b417e0ab"
   }
  }
 },
 "nbformat": 4,
 "nbformat_minor": 4
}
